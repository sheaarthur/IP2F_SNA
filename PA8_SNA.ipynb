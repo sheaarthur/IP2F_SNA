{
 "cells": [
  {
   "cell_type": "markdown",
   "id": "ec75ca5b",
   "metadata": {},
   "source": [
    "# Assignment 8\n",
    "\n",
    "## Shealyn Arthur\n",
    "\n",
    "## Version 1 \n",
    "\n",
    "#\n",
    "\n"
   ]
  },
  {
   "cell_type": "markdown",
   "id": "1e747820",
   "metadata": {},
   "source": [
    "#### 1."
   ]
  },
  {
   "cell_type": "code",
   "execution_count": 1,
   "id": "5c222a9a",
   "metadata": {},
   "outputs": [],
   "source": [
    "import numpy as np"
   ]
  },
  {
   "cell_type": "code",
   "execution_count": 4,
   "id": "64d8a7c3",
   "metadata": {},
   "outputs": [
    {
     "data": {
      "text/plain": [
       "array([10, 20, 30, 40])"
      ]
     },
     "execution_count": 4,
     "metadata": {},
     "output_type": "execute_result"
    }
   ],
   "source": [
    "list1=[10,20,30,40]\n",
    "array1=np.array(list1)\n",
    "array1"
   ]
  },
  {
   "cell_type": "code",
   "execution_count": 7,
   "id": "5e2e024a",
   "metadata": {},
   "outputs": [],
   "source": [
    "array1.resize((2,2))"
   ]
  },
  {
   "cell_type": "code",
   "execution_count": 8,
   "id": "545f74c8",
   "metadata": {},
   "outputs": [
    {
     "data": {
      "text/plain": [
       "array([[10, 20],\n",
       "       [30, 40]])"
      ]
     },
     "execution_count": 8,
     "metadata": {},
     "output_type": "execute_result"
    }
   ],
   "source": [
    "array1"
   ]
  },
  {
   "cell_type": "markdown",
   "id": "aaf22ec9",
   "metadata": {},
   "source": [
    "#### (a)"
   ]
  },
  {
   "cell_type": "code",
   "execution_count": 9,
   "id": "cbd3474b",
   "metadata": {},
   "outputs": [
    {
     "data": {
      "text/plain": [
       "array([[ 100,  400],\n",
       "       [ 900, 1600]], dtype=int32)"
      ]
     },
     "execution_count": 9,
     "metadata": {},
     "output_type": "execute_result"
    }
   ],
   "source": [
    "array1**2"
   ]
  },
  {
   "cell_type": "markdown",
   "id": "ab2ce4d1",
   "metadata": {},
   "source": [
    "#### (b)"
   ]
  },
  {
   "cell_type": "code",
   "execution_count": 10,
   "id": "a7546ce9",
   "metadata": {},
   "outputs": [
    {
     "data": {
      "text/plain": [
       "array([[110, 120],\n",
       "       [130, 140]])"
      ]
     },
     "execution_count": 10,
     "metadata": {},
     "output_type": "execute_result"
    }
   ],
   "source": [
    "array1+100"
   ]
  },
  {
   "cell_type": "markdown",
   "id": "76bd7fce",
   "metadata": {},
   "source": [
    "#### (c)"
   ]
  },
  {
   "cell_type": "code",
   "execution_count": 11,
   "id": "57593e44",
   "metadata": {},
   "outputs": [
    {
     "data": {
      "text/plain": [
       "array([[ 50, 100],\n",
       "       [150, 200]])"
      ]
     },
     "execution_count": 11,
     "metadata": {},
     "output_type": "execute_result"
    }
   ],
   "source": [
    "array1*5"
   ]
  },
  {
   "cell_type": "markdown",
   "id": "de482c1b",
   "metadata": {},
   "source": [
    "#### (d)"
   ]
  },
  {
   "cell_type": "code",
   "execution_count": 15,
   "id": "a9c65a61",
   "metadata": {},
   "outputs": [
    {
     "data": {
      "text/plain": [
       "array([[3.16227766, 4.47213595],\n",
       "       [5.47722558, 6.32455532]])"
      ]
     },
     "execution_count": 15,
     "metadata": {},
     "output_type": "execute_result"
    }
   ],
   "source": [
    "np.sqrt(array1)"
   ]
  },
  {
   "cell_type": "markdown",
   "id": "9125cb94",
   "metadata": {},
   "source": [
    "#### 2."
   ]
  },
  {
   "cell_type": "code",
   "execution_count": 21,
   "id": "bdbfd733",
   "metadata": {},
   "outputs": [
    {
     "data": {
      "text/plain": [
       "array([[ 3,  6,  9],\n",
       "       [12, 15, 18],\n",
       "       [21, 24, 27]])"
      ]
     },
     "execution_count": 21,
     "metadata": {},
     "output_type": "execute_result"
    }
   ],
   "source": [
    "array2=np.arange(3,28,3)\n",
    "array2.resize(3,3)\n",
    "array2"
   ]
  },
  {
   "cell_type": "code",
   "execution_count": 23,
   "id": "8bf5f103",
   "metadata": {},
   "outputs": [
    {
     "data": {
      "text/plain": [
       "array([[10.  , 11.25, 12.5 ],\n",
       "       [13.75, 15.  , 16.25],\n",
       "       [17.5 , 18.75, 20.  ]])"
      ]
     },
     "execution_count": 23,
     "metadata": {},
     "output_type": "execute_result"
    }
   ],
   "source": [
    "array3=np.linspace(10,20,9)\n",
    "array3.resize(3,3)\n",
    "array3"
   ]
  },
  {
   "cell_type": "code",
   "execution_count": 25,
   "id": "28150f11",
   "metadata": {},
   "outputs": [
    {
     "data": {
      "text/plain": [
       "array([[ 30. ,  67.5, 112.5],\n",
       "       [165. , 225. , 292.5],\n",
       "       [367.5, 450. , 540. ]])"
      ]
     },
     "execution_count": 25,
     "metadata": {},
     "output_type": "execute_result"
    }
   ],
   "source": [
    "array4=array2*array3\n",
    "array4"
   ]
  },
  {
   "cell_type": "markdown",
   "id": "0b0ad796",
   "metadata": {},
   "source": [
    "#### 3. "
   ]
  },
  {
   "cell_type": "code",
   "execution_count": 34,
   "id": "e83e258a",
   "metadata": {},
   "outputs": [],
   "source": [
    "x1=np.load('process1.npy')\n",
    "x2=np.load('process2.npy')\n",
    "x3=np.load('process3.npy')\n",
    "x4=np.load('process4.npy')\n",
    "x5=np.load('process5.npy')"
   ]
  },
  {
   "cell_type": "code",
   "execution_count": 36,
   "id": "3333366c",
   "metadata": {},
   "outputs": [
    {
     "data": {
      "text/plain": [
       "array([[52, 12, 81,  0, 58],\n",
       "       [96,  4, 61, 16, 43],\n",
       "       [38, 96, 45, 17, 58],\n",
       "       [97, 21, 22, 25,  6],\n",
       "       [77,  6, 19,  2, 74]])"
      ]
     },
     "execution_count": 36,
     "metadata": {},
     "output_type": "execute_result"
    }
   ],
   "source": [
    "array5=np.concatenate([x1,x2,x3,x4,x5])\n",
    "array5"
   ]
  },
  {
   "cell_type": "code",
   "execution_count": 47,
   "id": "ec5d8e0e",
   "metadata": {},
   "outputs": [],
   "source": [
    "c1=array5[:,0]\n",
    "c2=array5[:,1]\n",
    "c3=array5[:,2]\n",
    "c4=array5[:,3]\n",
    "c5=array5[:,4]"
   ]
  },
  {
   "cell_type": "code",
   "execution_count": 49,
   "id": "7c14c177",
   "metadata": {},
   "outputs": [
    {
     "name": "stdout",
     "output_type": "stream",
     "text": [
      "Column 1 Mean:  72.0\n",
      "Column 2 Mean:  27.8\n",
      "Column 3 Mean:  45.6\n",
      "Column 4 Mean:  12.0\n",
      "Column 5 Mean:  47.8\n"
     ]
    }
   ],
   "source": [
    "print(\"Column 1 Mean: \", c1.mean())\n",
    "print(\"Column 2 Mean: \", c2.mean())\n",
    "print(\"Column 3 Mean: \", c3.mean())\n",
    "print(\"Column 4 Mean: \", c4.mean())\n",
    "print(\"Column 5 Mean: \", c5.mean())"
   ]
  }
 ],
 "metadata": {
  "kernelspec": {
   "display_name": "Python 3 (ipykernel)",
   "language": "python",
   "name": "python3"
  },
  "language_info": {
   "codemirror_mode": {
    "name": "ipython",
    "version": 3
   },
   "file_extension": ".py",
   "mimetype": "text/x-python",
   "name": "python",
   "nbconvert_exporter": "python",
   "pygments_lexer": "ipython3",
   "version": "3.9.13"
  }
 },
 "nbformat": 4,
 "nbformat_minor": 5
}
